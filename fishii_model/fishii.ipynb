{
 "cells": [
  {
   "cell_type": "code",
   "execution_count": 1,
   "metadata": {},
   "outputs": [
    {
     "name": "stderr",
     "output_type": "stream",
     "text": [
      "Using TensorFlow backend.\n"
     ]
    }
   ],
   "source": [
    "import pandas as pd\n",
    "import numpy as np\n",
    "import keras\n",
    "from PIL import Image\n",
    "import matplotlib.pyplot as plt\n",
    "import matplotlib.image as mpimg\n",
    "import os\n",
    "from keras.layers import Conv2D, Dense, Activation\n",
    "from functools import reduce\n",
    "from keras.models import Sequential\n",
    "import pickle\n",
    "from sklearn.model_selection import train_test_split"
   ]
  },
  {
   "cell_type": "markdown",
   "metadata": {},
   "source": [
    "### Getting directory list"
   ]
  },
  {
   "cell_type": "code",
   "execution_count": 2,
   "metadata": {},
   "outputs": [],
   "source": [
    "# f = Image.open('./fish/220px-Alligator_Gar_10.JPG.jpg', \"r\")\n",
    "d = 'fish/'\n",
    "# d = 'created-data/'\n",
    "dirs = [d + x.strip(' ') + '/' for x in os.listdir(d)]\n",
    "temp = []\n",
    "\n",
    "# Removing DS store\n",
    "for d in dirs:\n",
    "    if d == 'fish/.DS_Store':\n",
    "        continue\n",
    "    temp.append(d)\n",
    "dirs = temp"
   ]
  },
  {
   "cell_type": "markdown",
   "metadata": {},
   "source": [
    "### Reading each image in a directory\n"
   ]
  },
  {
   "cell_type": "code",
   "execution_count": 3,
   "metadata": {},
   "outputs": [
    {
     "name": "stdout",
     "output_type": "stream",
     "text": [
      "Start loading images for: fish/bluegill/\n",
      "Start loading images for: fish/smallmouth_bass/\n",
      "Start loading images for: fish/blue_catfish/\n",
      "Start loading images for: fish/walleye/\n",
      "Start loading images for: fish/black_crappie/\n",
      "Start loading images for: fish/channel_catfish/\n",
      "Start loading images for: fish/Green Sunfish/\n",
      "Start loading images for: fish/alligator_gar/\n",
      "Start loading images for: fish/rainbow_trout/\n",
      "Start loading images for: fish/common_carp/\n",
      "Start loading images for: fish/northern_pike/\n"
     ]
    },
    {
     "name": "stderr",
     "output_type": "stream",
     "text": [
      "/Library/Frameworks/Python.framework/Versions/3.6/lib/python3.6/site-packages/PIL/TiffImagePlugin.py:742: UserWarning: Corrupt EXIF data.  Expecting to read 12 bytes but only got 9. \n",
      "  warnings.warn(str(msg))\n"
     ]
    },
    {
     "name": "stdout",
     "output_type": "stream",
     "text": [
      "Start loading images for: fish/Largemouth Bass/\n"
     ]
    }
   ],
   "source": [
    "def get_image_dict():\n",
    "    fish_data = {}\n",
    "\n",
    "    for directory in dirs:\n",
    "        try:\n",
    "            dir_files = [f for f in os.listdir(directory) if os.path.isfile(os.path.join(directory, f))]\n",
    "        except NotADirectoryError:\n",
    "            continue\n",
    "\n",
    "        images = []\n",
    "        print(\"Start loading images for: \" + directory)\n",
    "        for image_file in dir_files:\n",
    "            try:\n",
    "                f = Image.open(directory + image_file)\n",
    "                img_as_arr = np.array(f.resize((256,256)))\n",
    "                images.append(img_as_arr)\n",
    "                f.close()\n",
    "            except OSError:\n",
    "                continue\n",
    "        fish_data[directory.split(\"/\")[1]] = images\n",
    "    return fish_data\n",
    "\n",
    "fish_data = get_image_dict()"
   ]
  },
  {
   "cell_type": "code",
   "execution_count": 6,
   "metadata": {},
   "outputs": [],
   "source": [
    "def dict_to_vec(fish_data):\n",
    "    \"\"\"\n",
    "    :returns: x_train, y_train\n",
    "    \"\"\"\n",
    "    x_train = []\n",
    "    y_train = []\n",
    "    for key in fish_data:\n",
    "        data = fish_data[key]\n",
    "        \n",
    "        samples = []\n",
    "        for image in data:\n",
    "            if len(image.shape) != 3 or image.shape[2] != 3:\n",
    "                continue\n",
    "            samples.append(image)\n",
    "\n",
    "        shape = (len(samples),) + data[0].shape\n",
    "\n",
    "        x_placeholder = np.zeros(shape)\n",
    "\n",
    "        for i, sample in enumerate(samples):\n",
    "            x_placeholder[i] = sample\n",
    "        \n",
    "        x_train.append(x_placeholder)\n",
    "        y_train.append(key)\n",
    "        \n",
    "    return x_train, y_train\n"
   ]
  },
  {
   "cell_type": "code",
   "execution_count": 7,
   "metadata": {},
   "outputs": [],
   "source": [
    "x_train_vec, labels = dict_to_vec(fish_data)"
   ]
  },
  {
   "cell_type": "code",
   "execution_count": 61,
   "metadata": {},
   "outputs": [],
   "source": [
    "# zipped_list = list(zip(x_train_vec, labels))"
   ]
  },
  {
   "cell_type": "code",
   "execution_count": 62,
   "metadata": {},
   "outputs": [],
   "source": [
    "# , [labels[0]]\n",
    "# list(zip(x_train_vec, labels))[0]"
   ]
  },
  {
   "cell_type": "code",
   "execution_count": 63,
   "metadata": {},
   "outputs": [],
   "source": [
    "# with open('training_data.pkl', 'wb') as f:\n",
    "#     pickle.dump(zippped_list, f)\n",
    "#     f.close()\n",
    "\n",
    "# with open('training_data.pkl', 'r') as f:\n",
    "#     pickle.load(f)"
   ]
  },
  {
   "cell_type": "code",
   "execution_count": 8,
   "metadata": {},
   "outputs": [
    {
     "data": {
      "text/plain": [
       "array([[[[159., 172., 180.],\n",
       "         [158., 173., 178.],\n",
       "         [155., 174., 178.],\n",
       "         ...,\n",
       "         [ 85.,  88., 105.],\n",
       "         [ 81.,  87., 103.],\n",
       "         [ 82.,  85., 100.]],\n",
       "\n",
       "        [[158., 171., 179.],\n",
       "         [161., 174., 180.],\n",
       "         [161., 174., 180.],\n",
       "         ...,\n",
       "         [ 85.,  88., 105.],\n",
       "         [ 86.,  88., 109.],\n",
       "         [ 87.,  84., 103.]],\n",
       "\n",
       "        [[161., 174., 182.],\n",
       "         [163., 174., 180.],\n",
       "         [158., 176., 180.],\n",
       "         ...,\n",
       "         [ 84.,  89., 109.],\n",
       "         [ 87.,  86., 102.],\n",
       "         [ 84.,  83., 101.]],\n",
       "\n",
       "        ...,\n",
       "\n",
       "        [[ 78.,  97., 101.],\n",
       "         [ 80.,  98., 102.],\n",
       "         [ 80.,  93.,  99.],\n",
       "         ...,\n",
       "         [145., 145., 145.],\n",
       "         [146., 146., 146.],\n",
       "         [147., 147., 147.]],\n",
       "\n",
       "        [[ 78.,  95., 102.],\n",
       "         [ 79.,  97.,  97.],\n",
       "         [ 77.,  98., 101.],\n",
       "         ...,\n",
       "         [143., 143., 143.],\n",
       "         [148., 144., 145.],\n",
       "         [146., 146., 144.]],\n",
       "\n",
       "        [[ 80.,  95., 102.],\n",
       "         [ 82.,  95., 101.],\n",
       "         [ 80.,  98., 102.],\n",
       "         ...,\n",
       "         [142., 142., 142.],\n",
       "         [142., 142., 142.],\n",
       "         [143., 143., 143.]]],\n",
       "\n",
       "\n",
       "       [[[255., 255., 255.],\n",
       "         [255., 255., 255.],\n",
       "         [255., 255., 255.],\n",
       "         ...,\n",
       "         [255., 255., 255.],\n",
       "         [255., 255., 255.],\n",
       "         [255., 255., 255.]],\n",
       "\n",
       "        [[255., 255., 255.],\n",
       "         [255., 255., 255.],\n",
       "         [255., 255., 255.],\n",
       "         ...,\n",
       "         [255., 255., 255.],\n",
       "         [255., 255., 255.],\n",
       "         [255., 255., 255.]],\n",
       "\n",
       "        [[255., 255., 255.],\n",
       "         [255., 255., 255.],\n",
       "         [255., 255., 255.],\n",
       "         ...,\n",
       "         [255., 255., 255.],\n",
       "         [255., 255., 255.],\n",
       "         [255., 255., 255.]],\n",
       "\n",
       "        ...,\n",
       "\n",
       "        [[255., 255., 255.],\n",
       "         [255., 255., 255.],\n",
       "         [255., 255., 255.],\n",
       "         ...,\n",
       "         [255., 255., 255.],\n",
       "         [255., 255., 255.],\n",
       "         [255., 255., 255.]],\n",
       "\n",
       "        [[255., 255., 255.],\n",
       "         [255., 255., 255.],\n",
       "         [255., 255., 255.],\n",
       "         ...,\n",
       "         [255., 255., 255.],\n",
       "         [255., 255., 255.],\n",
       "         [255., 255., 255.]],\n",
       "\n",
       "        [[255., 255., 255.],\n",
       "         [255., 255., 255.],\n",
       "         [255., 255., 255.],\n",
       "         ...,\n",
       "         [255., 255., 255.],\n",
       "         [255., 255., 255.],\n",
       "         [255., 255., 255.]]],\n",
       "\n",
       "\n",
       "       [[[ 79.,  76.,  69.],\n",
       "         [ 79.,  76.,  69.],\n",
       "         [ 79.,  76.,  69.],\n",
       "         ...,\n",
       "         [ 47.,  43.,  44.],\n",
       "         [ 45.,  39.,  41.],\n",
       "         [ 44.,  38.,  40.]],\n",
       "\n",
       "        [[ 79.,  76.,  69.],\n",
       "         [ 79.,  76.,  69.],\n",
       "         [ 79.,  76.,  69.],\n",
       "         ...,\n",
       "         [ 48.,  44.,  45.],\n",
       "         [ 46.,  40.,  42.],\n",
       "         [ 45.,  39.,  41.]],\n",
       "\n",
       "        [[ 79.,  76.,  69.],\n",
       "         [ 79.,  76.,  69.],\n",
       "         [ 79.,  76.,  69.],\n",
       "         ...,\n",
       "         [ 48.,  44.,  45.],\n",
       "         [ 47.,  41.,  43.],\n",
       "         [ 46.,  40.,  42.]],\n",
       "\n",
       "        ...,\n",
       "\n",
       "        [[ 55.,  45.,  43.],\n",
       "         [ 54.,  46.,  43.],\n",
       "         [ 54.,  47.,  41.],\n",
       "         ...,\n",
       "         [ 30.,  24.,  24.],\n",
       "         [ 32.,  23.,  24.],\n",
       "         [ 31.,  22.,  23.]],\n",
       "\n",
       "        [[ 54.,  46.,  43.],\n",
       "         [ 54.,  46.,  43.],\n",
       "         [ 54.,  47.,  41.],\n",
       "         ...,\n",
       "         [ 30.,  24.,  24.],\n",
       "         [ 31.,  22.,  23.],\n",
       "         [ 31.,  22.,  23.]],\n",
       "\n",
       "        [[ 54.,  46.,  43.],\n",
       "         [ 54.,  46.,  43.],\n",
       "         [ 52.,  47.,  41.],\n",
       "         ...,\n",
       "         [ 32.,  23.,  24.],\n",
       "         [ 31.,  22.,  23.],\n",
       "         [ 31.,  22.,  23.]]],\n",
       "\n",
       "\n",
       "       ...,\n",
       "\n",
       "\n",
       "       [[[ 84., 112.,  97.],\n",
       "         [ 80., 108.,  83.],\n",
       "         [ 89., 120.,  88.],\n",
       "         ...,\n",
       "         [  9., 112., 147.],\n",
       "         [ 46., 133., 161.],\n",
       "         [ 42., 122., 147.]],\n",
       "\n",
       "        [[ 83., 112.,  90.],\n",
       "         [ 80., 109.,  87.],\n",
       "         [ 77., 112.,  88.],\n",
       "         ...,\n",
       "         [ 29., 110., 127.],\n",
       "         [ 11.,  69.,  89.],\n",
       "         [  1.,  45.,  72.]],\n",
       "\n",
       "        [[108., 124.,  87.],\n",
       "         [102., 118.,  92.],\n",
       "         [ 84., 109.,  88.],\n",
       "         ...,\n",
       "         [  9.,  57.,  80.],\n",
       "         [ 75., 112., 141.],\n",
       "         [128., 163., 203.]],\n",
       "\n",
       "        ...,\n",
       "\n",
       "        [[121., 110., 104.],\n",
       "         [134., 110., 100.],\n",
       "         [100.,  86.,  86.],\n",
       "         ...,\n",
       "         [124., 114., 122.],\n",
       "         [129., 132., 151.],\n",
       "         [113., 118., 140.]],\n",
       "\n",
       "        [[126., 109., 101.],\n",
       "         [ 98.,  71.,  64.],\n",
       "         [117., 104., 111.],\n",
       "         ...,\n",
       "         [ 98., 106., 125.],\n",
       "         [ 73.,  80.,  98.],\n",
       "         [115., 111., 134.]],\n",
       "\n",
       "        [[106.,  79.,  62.],\n",
       "         [ 78.,  57.,  52.],\n",
       "         [136., 131., 135.],\n",
       "         ...,\n",
       "         [131., 134., 149.],\n",
       "         [113., 111., 132.],\n",
       "         [152., 188., 204.]]],\n",
       "\n",
       "\n",
       "       [[[177., 195., 217.],\n",
       "         [169., 186., 214.],\n",
       "         [165., 188., 220.],\n",
       "         ...,\n",
       "         [136., 143., 169.],\n",
       "         [130., 145., 164.],\n",
       "         [146., 161., 180.]],\n",
       "\n",
       "        [[194., 212., 234.],\n",
       "         [130., 147., 175.],\n",
       "         [169., 192., 224.],\n",
       "         ...,\n",
       "         [136., 143., 169.],\n",
       "         [141., 156., 175.],\n",
       "         [131., 146., 165.]],\n",
       "\n",
       "        [[185., 200., 219.],\n",
       "         [178., 196., 218.],\n",
       "         [168., 185., 213.],\n",
       "         ...,\n",
       "         [132., 147., 166.],\n",
       "         [129., 144., 163.],\n",
       "         [131., 146., 169.]],\n",
       "\n",
       "        ...,\n",
       "\n",
       "        [[153., 161., 182.],\n",
       "         [143., 151., 172.],\n",
       "         [149., 156., 184.],\n",
       "         ...,\n",
       "         [ 79.,  85., 117.],\n",
       "         [ 75.,  89., 118.],\n",
       "         [ 65.,  79., 108.]],\n",
       "\n",
       "        [[139., 147., 168.],\n",
       "         [148., 156., 177.],\n",
       "         [135., 142., 170.],\n",
       "         ...,\n",
       "         [ 77.,  83., 115.],\n",
       "         [ 68.,  82., 111.],\n",
       "         [ 60.,  74., 103.]],\n",
       "\n",
       "        [[139., 146., 172.],\n",
       "         [129., 138., 167.],\n",
       "         [153., 163., 175.],\n",
       "         ...,\n",
       "         [ 71.,  85., 114.],\n",
       "         [ 67.,  85., 105.],\n",
       "         [ 61.,  76., 115.]]],\n",
       "\n",
       "\n",
       "       [[[ 22.,  39.,  82.],\n",
       "         [ 20.,  35.,  78.],\n",
       "         [ 15.,  31.,  67.],\n",
       "         ...,\n",
       "         [ 22.,  22.,  24.],\n",
       "         [ 15.,  15.,  15.],\n",
       "         [ 10.,  12.,  11.]],\n",
       "\n",
       "        [[ 19.,  37.,  85.],\n",
       "         [ 19.,  37.,  77.],\n",
       "         [ 15.,  33.,  71.],\n",
       "         ...,\n",
       "         [ 22.,  22.,  22.],\n",
       "         [ 16.,  16.,  16.],\n",
       "         [ 11.,  13.,  12.]],\n",
       "\n",
       "        [[ 21.,  42.,  89.],\n",
       "         [ 19.,  37.,  85.],\n",
       "         [ 19.,  34.,  77.],\n",
       "         ...,\n",
       "         [ 25.,  25.,  23.],\n",
       "         [ 18.,  18.,  18.],\n",
       "         [ 14.,  16.,  15.]],\n",
       "\n",
       "        ...,\n",
       "\n",
       "        [[254., 221., 206.],\n",
       "         [255., 222., 205.],\n",
       "         [255., 219., 203.],\n",
       "         ...,\n",
       "         [109., 122.,  50.],\n",
       "         [108., 120.,  48.],\n",
       "         [102., 112.,  43.]],\n",
       "\n",
       "        [[254., 215., 198.],\n",
       "         [255., 218., 200.],\n",
       "         [254., 218., 196.],\n",
       "         ...,\n",
       "         [117., 137.,  66.],\n",
       "         [115., 132.,  64.],\n",
       "         [110., 121.,  55.]],\n",
       "\n",
       "        [[252., 213., 196.],\n",
       "         [254., 217., 199.],\n",
       "         [253., 217., 193.],\n",
       "         ...,\n",
       "         [129., 149.,  78.],\n",
       "         [123., 140.,  72.],\n",
       "         [117., 129.,  63.]]]])"
      ]
     },
     "execution_count": 8,
     "metadata": {},
     "output_type": "execute_result"
    }
   ],
   "source": [
    "# Removing walleye\n",
    "x_train_vec.pop(3)"
   ]
  },
  {
   "cell_type": "code",
   "execution_count": 11,
   "metadata": {},
   "outputs": [
    {
     "data": {
      "text/plain": [
       "(984, 256, 256, 3)"
      ]
     },
     "execution_count": 11,
     "metadata": {},
     "output_type": "execute_result"
    }
   ],
   "source": [
    "x_train.shape"
   ]
  },
  {
   "cell_type": "code",
   "execution_count": 29,
   "metadata": {},
   "outputs": [],
   "source": [
    "list_num_index = []\n",
    "for i in range(len(x_train_vec)):\n",
    "    list_num_index.append(x_train_vec[i].shape[0])"
   ]
  },
  {
   "cell_type": "code",
   "execution_count": 27,
   "metadata": {},
   "outputs": [],
   "source": [
    "for i in range(len(x_train_vec)):\n",
    "    x_train_vec[i] = x_train_vec[i][0:80,:,:,:]"
   ]
  },
  {
   "cell_type": "code",
   "execution_count": 21,
   "metadata": {},
   "outputs": [
    {
     "data": {
      "text/plain": [
       "[84, 89, 91, 90, 88, 89, 88, 93, 92, 86, 94]"
      ]
     },
     "execution_count": 21,
     "metadata": {},
     "output_type": "execute_result"
    }
   ],
   "source": [
    "list_num_index"
   ]
  },
  {
   "cell_type": "code",
   "execution_count": 32,
   "metadata": {},
   "outputs": [],
   "source": [
    "y = np.zeros((len(x_train_vec)*80))\n",
    "for i in range(len(list_num_index)):\n",
    "    y[i*80:(i+1)*80] = i"
   ]
  },
  {
   "cell_type": "code",
   "execution_count": 34,
   "metadata": {},
   "outputs": [],
   "source": [
    "x_train = np.concatenate(x_train_vec)"
   ]
  },
  {
   "cell_type": "code",
   "execution_count": 38,
   "metadata": {},
   "outputs": [],
   "source": [
    "X_train_, X_test, y_train, y_test = train_test_split(x_train, y, test_size=0.15, random_state=42)"
   ]
  },
  {
   "cell_type": "code",
   "execution_count": 43,
   "metadata": {},
   "outputs": [
    {
     "name": "stdout",
     "output_type": "stream",
     "text": [
      "(748, 256, 256, 3)\n",
      "(132, 256, 256, 3)\n",
      "(748,)\n",
      "(132,)\n"
     ]
    }
   ],
   "source": [
    "print(X_train_.shape)\n",
    "print(X_test.shape)\n",
    "print(y_train.shape)\n",
    "print(y_test.shape)"
   ]
  },
  {
   "cell_type": "code",
   "execution_count": 41,
   "metadata": {},
   "outputs": [],
   "source": [
    "with open('train.pkl', 'wb') as handle:\n",
    "    pickle.dump((X_train_, y_train), handle)\n",
    "with open('test.pkl', 'wb') as handle:\n",
    "    pickle.dump((X_test, y_test), handle)"
   ]
  },
  {
   "cell_type": "code",
   "execution_count": 18,
   "metadata": {},
   "outputs": [
    {
     "data": {
      "text/plain": [
       "(11084, 256, 256, 3)"
      ]
     },
     "execution_count": 18,
     "metadata": {},
     "output_type": "execute_result"
    }
   ],
   "source": [
    "# pickle.dump(x_train, 'x_train')\n",
    "x_train.shape"
   ]
  },
  {
   "cell_type": "code",
   "execution_count": 357,
   "metadata": {},
   "outputs": [
    {
     "ename": "ValueError",
     "evalue": "Input 0 is incompatible with layer conv2d_11: expected ndim=4, found ndim=5",
     "output_type": "error",
     "traceback": [
      "\u001b[0;31m---------------------------------------------------------------------------\u001b[0m",
      "\u001b[0;31mValueError\u001b[0m                                Traceback (most recent call last)",
      "\u001b[0;32m<ipython-input-357-a2d4a6351cb2>\u001b[0m in \u001b[0;36m<module>\u001b[0;34m()\u001b[0m\n\u001b[1;32m     19\u001b[0m \u001b[0;34m\u001b[0m\u001b[0m\n\u001b[1;32m     20\u001b[0m model.add(Conv2D(filters=channels, kernel_size=window, strides=stride, padding=padding, activation=activation,\n\u001b[0;32m---> 21\u001b[0;31m     data_format='channels_last'))\n\u001b[0m\u001b[1;32m     22\u001b[0m \u001b[0;34m\u001b[0m\u001b[0m\n\u001b[1;32m     23\u001b[0m \u001b[0;34m\u001b[0m\u001b[0m\n",
      "\u001b[0;32m/Library/Frameworks/Python.framework/Versions/3.6/lib/python3.6/site-packages/keras/models.py\u001b[0m in \u001b[0;36madd\u001b[0;34m(self, layer)\u001b[0m\n\u001b[1;32m    490\u001b[0m                           output_shapes=[self.outputs[0]._keras_shape])\n\u001b[1;32m    491\u001b[0m         \u001b[0;32melse\u001b[0m\u001b[0;34m:\u001b[0m\u001b[0;34m\u001b[0m\u001b[0m\n\u001b[0;32m--> 492\u001b[0;31m             \u001b[0moutput_tensor\u001b[0m \u001b[0;34m=\u001b[0m \u001b[0mlayer\u001b[0m\u001b[0;34m(\u001b[0m\u001b[0mself\u001b[0m\u001b[0;34m.\u001b[0m\u001b[0moutputs\u001b[0m\u001b[0;34m[\u001b[0m\u001b[0;36m0\u001b[0m\u001b[0;34m]\u001b[0m\u001b[0;34m)\u001b[0m\u001b[0;34m\u001b[0m\u001b[0m\n\u001b[0m\u001b[1;32m    493\u001b[0m             \u001b[0;32mif\u001b[0m \u001b[0misinstance\u001b[0m\u001b[0;34m(\u001b[0m\u001b[0moutput_tensor\u001b[0m\u001b[0;34m,\u001b[0m \u001b[0mlist\u001b[0m\u001b[0;34m)\u001b[0m\u001b[0;34m:\u001b[0m\u001b[0;34m\u001b[0m\u001b[0m\n\u001b[1;32m    494\u001b[0m                 raise TypeError('All layers in a Sequential model '\n",
      "\u001b[0;32m/Library/Frameworks/Python.framework/Versions/3.6/lib/python3.6/site-packages/keras/engine/topology.py\u001b[0m in \u001b[0;36m__call__\u001b[0;34m(self, inputs, **kwargs)\u001b[0m\n\u001b[1;32m    571\u001b[0m                 \u001b[0;31m# Raise exceptions in case the input is not compatible\u001b[0m\u001b[0;34m\u001b[0m\u001b[0;34m\u001b[0m\u001b[0m\n\u001b[1;32m    572\u001b[0m                 \u001b[0;31m# with the input_spec specified in the layer constructor.\u001b[0m\u001b[0;34m\u001b[0m\u001b[0;34m\u001b[0m\u001b[0m\n\u001b[0;32m--> 573\u001b[0;31m                 \u001b[0mself\u001b[0m\u001b[0;34m.\u001b[0m\u001b[0massert_input_compatibility\u001b[0m\u001b[0;34m(\u001b[0m\u001b[0minputs\u001b[0m\u001b[0;34m)\u001b[0m\u001b[0;34m\u001b[0m\u001b[0m\n\u001b[0m\u001b[1;32m    574\u001b[0m \u001b[0;34m\u001b[0m\u001b[0m\n\u001b[1;32m    575\u001b[0m                 \u001b[0;31m# Collect input shapes to build layer.\u001b[0m\u001b[0;34m\u001b[0m\u001b[0;34m\u001b[0m\u001b[0m\n",
      "\u001b[0;32m/Library/Frameworks/Python.framework/Versions/3.6/lib/python3.6/site-packages/keras/engine/topology.py\u001b[0m in \u001b[0;36massert_input_compatibility\u001b[0;34m(self, inputs)\u001b[0m\n\u001b[1;32m    470\u001b[0m                                      \u001b[0mself\u001b[0m\u001b[0;34m.\u001b[0m\u001b[0mname\u001b[0m \u001b[0;34m+\u001b[0m \u001b[0;34m': expected ndim='\u001b[0m \u001b[0;34m+\u001b[0m\u001b[0;34m\u001b[0m\u001b[0m\n\u001b[1;32m    471\u001b[0m                                      \u001b[0mstr\u001b[0m\u001b[0;34m(\u001b[0m\u001b[0mspec\u001b[0m\u001b[0;34m.\u001b[0m\u001b[0mndim\u001b[0m\u001b[0;34m)\u001b[0m \u001b[0;34m+\u001b[0m \u001b[0;34m', found ndim='\u001b[0m \u001b[0;34m+\u001b[0m\u001b[0;34m\u001b[0m\u001b[0m\n\u001b[0;32m--> 472\u001b[0;31m                                      str(K.ndim(x)))\n\u001b[0m\u001b[1;32m    473\u001b[0m             \u001b[0;32mif\u001b[0m \u001b[0mspec\u001b[0m\u001b[0;34m.\u001b[0m\u001b[0mmax_ndim\u001b[0m \u001b[0;32mis\u001b[0m \u001b[0;32mnot\u001b[0m \u001b[0;32mNone\u001b[0m\u001b[0;34m:\u001b[0m\u001b[0;34m\u001b[0m\u001b[0m\n\u001b[1;32m    474\u001b[0m                 \u001b[0mndim\u001b[0m \u001b[0;34m=\u001b[0m \u001b[0mK\u001b[0m\u001b[0;34m.\u001b[0m\u001b[0mndim\u001b[0m\u001b[0;34m(\u001b[0m\u001b[0mx\u001b[0m\u001b[0;34m)\u001b[0m\u001b[0;34m\u001b[0m\u001b[0m\n",
      "\u001b[0;31mValueError\u001b[0m: Input 0 is incompatible with layer conv2d_11: expected ndim=4, found ndim=5"
     ]
    }
   ],
   "source": [
    "parameters = {\n",
    "    'channels': 3,\n",
    "    'window': 5,\n",
    "    'stride': 3,\n",
    "    'padding': 'same',\n",
    "    'activation': 'relu'\n",
    "}\n",
    "\n",
    "channels = parameters['channels']\n",
    "window = parameters['window']\n",
    "stride = parameters['stride']\n",
    "padding = parameters['padding']\n",
    "activation = parameters['activation']\n",
    "\n",
    "model = Sequential()\n",
    "\n",
    "# magic numbers: 256 * 256 * 3 is the total pixels per image\n",
    "model.add(Dense((256 * 256 * 3), input_shape=x_train.shape))\n",
    "\n",
    "model.add(Conv2D(filters=channels, kernel_size=window, strides=stride, padding=padding, activation=activation,\n",
    "    data_format='channels_last'))\n"
   ]
  },
  {
   "cell_type": "code",
   "execution_count": null,
   "metadata": {},
   "outputs": [],
   "source": []
  }
 ],
 "metadata": {
  "kernelspec": {
   "display_name": "Python 3",
   "language": "python",
   "name": "python3"
  },
  "language_info": {
   "codemirror_mode": {
    "name": "ipython",
    "version": 3
   },
   "file_extension": ".py",
   "mimetype": "text/x-python",
   "name": "python",
   "nbconvert_exporter": "python",
   "pygments_lexer": "ipython3",
   "version": "3.6.4"
  }
 },
 "nbformat": 4,
 "nbformat_minor": 2
}
